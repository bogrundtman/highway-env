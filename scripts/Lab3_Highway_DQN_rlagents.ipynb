{
  "nbformat": 4,
  "nbformat_minor": 0,
  "metadata": {
    "colab": {
      "provenance": []
    },
    "kernelspec": {
      "name": "python3",
      "language": "python",
      "display_name": "Python 3"
    },
    "accelerator": "GPU",
    "pycharm": {
      "stem_cell": {
        "cell_type": "raw",
        "source": [],
        "metadata": {
          "collapsed": false
        }
      }
    }
  },
  "cells": [
    {
      "cell_type": "markdown",
      "metadata": {
        "id": "KTBW2COTwOg_"
      },
      "source": [
        "Lab3 is based on highway-env https://github.com/eleurent/highway-env. In\n",
        "envs/highway_env.py, the vehicle is rewarded for reaching a high speed, staying on the rightmost lanes and avoiding collisions for in highway driving (highway-env). Your task is to add an additional term to penalize changing lanes. (Ideally we should penalize changing lanes to the left more than changing to the right, but this is a simplified exercise.) Please refer to envs/roundabout_env for reference.\n",
        "\n",
        "Steps:\n",
        "\n",
        "1) Fork the highway-env repository to your own GitHub account, and modify highway_env.py. (if you are not familiar with GitHub, I recommend installing GitHub Desktop https://desktop.github.com.)\n",
        "\n",
        "2) Replace\n",
        "!pip install highway-env\n",
        "with path to your own repository:\n",
        "!pip install git+https://github.com/USERNAME/highway-env\n",
        "\n",
        "3) Train your agent for different values of lane_change_reward, and different environments with varying complexity, starting from the simplest:\n",
        "\n",
        "env.config[\"lane_change_reward\"] = 0\n",
        "\n",
        "env.config[\"vehicles_count\"] = 0\n",
        "\n",
        "env.config[\"lanes_count\"] = 2\n",
        "\n",
        "env.config[\"initial_lane_id\"] = 0\n",
        "\n",
        "In this simple environment, during testing the vehicle should switch to the right lane quickly and stay in the right lane. (It is possible for it to stay in the left lane during testing if your training num_episodes is too small, since the agent may not have had a chance to try the lane change action during training.)\n",
        "Try different values of lane_change_reward (e.g., -0.1, -1, -10, etc. note that it must be negative), and different numbers of vehicles/lanes. Make lane_change_reward very negative until you observe that the vehicle prefers *collision* to *lane change to avoid collision*. Submit your IPython Notebook, and a short report (or text blocks within the Notebook) describing the different configurations you have tried, and your observations for each config, including two configs that differ only in the lane_change_reward, one with no or rare collisions, one with frequent collisions.\n",
        "\n",
        "\n",
        "You may use either Google CoLab or your local machine. If you use CoLab, please send your CoLab web link. Otherwise, please submit your IPython Notebook to Canvas. Please include the recorded videos during the testing in IPython Notebook. Since it is not possible to save multiple trained models without modifying the source code of rl-agents, we can only see one trained model in Colab that you trained last. It is not realistic for us to retrain all the models, so please provide screenshots and descriptions in the report for your observations of each config, esp. \"the two configs that differ only in the lane_change_reward, one with no or rare collisions, one with frequent collisions\".\n",
        "\n",
        "Notes:\n",
        "\n",
        "1) More complex environments demand more training time (more num_episodes), so do not make your environment more complex than necessary. You may try increasing the  vehicles_density and reward_speed_range to increase the chances of collision. You may also find \"Script to Stop Google Colab From Disconnecting\" to be helpful.\n",
        "\n",
        "2) You may want to tune DQN hyperparams in configs/HighwayEnv/agents/DQNAgent/dqn.json, e.g., discount factor gamma, and epsilon greedy exploration params tau, temperature, final_temperature for different num_episodes.\n",
        "\n",
        "3) The error message \"fatal: destination path 'highway-env' already exists and is not an empty directory\" in the first code cell can be safely ignored.\n",
        "\n",
        "Tips (2024/01):\n",
        "1. To open a Python file from GitHub in Colab, simply change the domain from 'github.com' to 'githubtocolab.com’, e.g.,\n",
        "https://githubtocolab.com/guzonghua/saavlabs/blob/main/Lab3/Lab3_Highway_DQN_rlagents.ipynb\n",
        "Then you can click on “Copy to Drive” to copy it to your Google Drive.\n",
        "\n",
        "2. If you encounter this error “module 'collections' has no attribute 'Mapping’”\n",
        "https://www.perplexity.ai/search/module-collections-has-QYCyz9XNQBaNwVo5QhA3jA?s=u\n",
        "\n",
        "Please go to the rl_agents library  (where it is installed) and editing the file  configuration.py:\n",
        "\n",
        "Change line 1:  import collections -> import collections.abc\n",
        "\n",
        "Change line 39:  if isinstance(v, collections.Mapping): -> if isinstance(v, collections.abc.Mapping):"
      ]
    },
    {
      "cell_type": "markdown",
      "metadata": {
        "id": "sepDWoBqdRMK"
      },
      "source": [
        "# Training a DQN on `highway-v0` with rlagents\n",
        "## Import requirements"
      ]
    },
    {
      "cell_type": "code",
      "metadata": {
        "id": "Kx8X4s8krNWt",
        "colab": {
          "base_uri": "https://localhost:8080/",
          "height": 1000
        },
        "outputId": "1d71c0b4-7e23-447a-8e67-689aaf55d547"
      },
      "source": [
        "# Environment\n",
        "\n",
        "## KP-test version 2022-12-09 with working video\n",
        "\n",
        "!pip install highway-env ##KP\n",
        "!pip install --user git+https://github.com/eleurent/highway-env\n",
        "##KP - install newer version than published - clone from that\n",
        "!pip install git+https://github.com/bogrundtman/highway-env\n",
        "import gym\n",
        "import highway_env\n",
        "\n",
        "# Agent\n",
        "##KP !pip install git+https://github.com/eleurent/rl-agents\n",
        "!pip install --user git+https://github.com/eleurent/rl-agents\n",
        "!pip install moviepy ##KP - used for playing videos\n",
        "#from moviepy.editor import *  #KP - gives error\n",
        "\n",
        "# Visualisation utils\n",
        "import sys\n",
        "%load_ext tensorboard\n",
        "!pip install tensorboardx gym pyvirtualdisplay\n",
        "!apt-get install -y xvfb python-opengl ffmpeg\n",
        "!git clone https://github.com/eleurent/highway-env.git\n",
        "sys.path.insert(0, '/content/highway-env/scripts/')\n",
        "from utils import record_videos,show_videos\n",
        "!pip install imageio-ffmpeg #KP - mpeg4 encoder needed for play\n",
        "import imageio_ffmpeg\n",
        "#from moviepy.video.io.ImageSequenceClip import ImageSequenceClip ##KP"
      ],
      "execution_count": 2,
      "outputs": [
        {
          "output_type": "stream",
          "name": "stdout",
          "text": [
            "Requirement already satisfied: highway-env in /root/.local/lib/python3.10/site-packages (1.8.2)\n",
            "Requirement already satisfied: farama-notifications in /root/.local/lib/python3.10/site-packages (from highway-env) (0.0.4)\n",
            "Requirement already satisfied: gymnasium>=0.27 in /root/.local/lib/python3.10/site-packages (from highway-env) (0.29.1)\n",
            "Requirement already satisfied: numpy in /usr/local/lib/python3.10/dist-packages (from highway-env) (1.23.5)\n",
            "Requirement already satisfied: pygame>=2.0.2 in /usr/local/lib/python3.10/dist-packages (from highway-env) (2.5.2)\n",
            "Requirement already satisfied: matplotlib in /usr/local/lib/python3.10/dist-packages (from highway-env) (3.7.1)\n",
            "Requirement already satisfied: pandas in /usr/local/lib/python3.10/dist-packages (from highway-env) (1.5.3)\n",
            "Requirement already satisfied: scipy in /usr/local/lib/python3.10/dist-packages (from highway-env) (1.11.4)\n",
            "Requirement already satisfied: cloudpickle>=1.2.0 in /usr/local/lib/python3.10/dist-packages (from gymnasium>=0.27->highway-env) (2.2.1)\n",
            "Requirement already satisfied: typing-extensions>=4.3.0 in /usr/local/lib/python3.10/dist-packages (from gymnasium>=0.27->highway-env) (4.5.0)\n",
            "Requirement already satisfied: contourpy>=1.0.1 in /usr/local/lib/python3.10/dist-packages (from matplotlib->highway-env) (1.2.0)\n",
            "Requirement already satisfied: cycler>=0.10 in /usr/local/lib/python3.10/dist-packages (from matplotlib->highway-env) (0.12.1)\n",
            "Requirement already satisfied: fonttools>=4.22.0 in /usr/local/lib/python3.10/dist-packages (from matplotlib->highway-env) (4.47.0)\n",
            "Requirement already satisfied: kiwisolver>=1.0.1 in /usr/local/lib/python3.10/dist-packages (from matplotlib->highway-env) (1.4.5)\n",
            "Requirement already satisfied: packaging>=20.0 in /usr/local/lib/python3.10/dist-packages (from matplotlib->highway-env) (23.2)\n",
            "Requirement already satisfied: pillow>=6.2.0 in /usr/local/lib/python3.10/dist-packages (from matplotlib->highway-env) (9.4.0)\n",
            "Requirement already satisfied: pyparsing>=2.3.1 in /usr/local/lib/python3.10/dist-packages (from matplotlib->highway-env) (3.1.1)\n",
            "Requirement already satisfied: python-dateutil>=2.7 in /usr/local/lib/python3.10/dist-packages (from matplotlib->highway-env) (2.8.2)\n",
            "Requirement already satisfied: pytz>=2020.1 in /usr/local/lib/python3.10/dist-packages (from pandas->highway-env) (2023.3.post1)\n",
            "Requirement already satisfied: six>=1.5 in /usr/local/lib/python3.10/dist-packages (from python-dateutil>=2.7->matplotlib->highway-env) (1.16.0)\n",
            "Collecting git+https://github.com/eleurent/highway-env\n",
            "  Cloning https://github.com/eleurent/highway-env to /tmp/pip-req-build-ycanba_p\n",
            "  Running command git clone --filter=blob:none --quiet https://github.com/eleurent/highway-env /tmp/pip-req-build-ycanba_p\n",
            "  Resolved https://github.com/eleurent/highway-env to commit 4cae2587999ac342a7b5c34507af8d20397a163f\n",
            "  Installing build dependencies ... \u001b[?25l\u001b[?25hdone\n",
            "  Getting requirements to build wheel ... \u001b[?25l\u001b[?25hdone\n",
            "  Installing backend dependencies ... \u001b[?25l\u001b[?25hdone\n",
            "  Preparing metadata (pyproject.toml) ... \u001b[?25l\u001b[?25hdone\n",
            "Requirement already satisfied: farama-notifications in /root/.local/lib/python3.10/site-packages (from highway-env==1.8.2) (0.0.4)\n",
            "Requirement already satisfied: gymnasium>=0.27 in /root/.local/lib/python3.10/site-packages (from highway-env==1.8.2) (0.29.1)\n",
            "Requirement already satisfied: numpy in /usr/local/lib/python3.10/dist-packages (from highway-env==1.8.2) (1.23.5)\n",
            "Requirement already satisfied: pygame>=2.0.2 in /usr/local/lib/python3.10/dist-packages (from highway-env==1.8.2) (2.5.2)\n",
            "Requirement already satisfied: matplotlib in /usr/local/lib/python3.10/dist-packages (from highway-env==1.8.2) (3.7.1)\n",
            "Requirement already satisfied: pandas in /usr/local/lib/python3.10/dist-packages (from highway-env==1.8.2) (1.5.3)\n",
            "Requirement already satisfied: scipy in /usr/local/lib/python3.10/dist-packages (from highway-env==1.8.2) (1.11.4)\n",
            "Requirement already satisfied: cloudpickle>=1.2.0 in /usr/local/lib/python3.10/dist-packages (from gymnasium>=0.27->highway-env==1.8.2) (2.2.1)\n",
            "Requirement already satisfied: typing-extensions>=4.3.0 in /usr/local/lib/python3.10/dist-packages (from gymnasium>=0.27->highway-env==1.8.2) (4.5.0)\n",
            "Requirement already satisfied: contourpy>=1.0.1 in /usr/local/lib/python3.10/dist-packages (from matplotlib->highway-env==1.8.2) (1.2.0)\n",
            "Requirement already satisfied: cycler>=0.10 in /usr/local/lib/python3.10/dist-packages (from matplotlib->highway-env==1.8.2) (0.12.1)\n",
            "Requirement already satisfied: fonttools>=4.22.0 in /usr/local/lib/python3.10/dist-packages (from matplotlib->highway-env==1.8.2) (4.47.0)\n",
            "Requirement already satisfied: kiwisolver>=1.0.1 in /usr/local/lib/python3.10/dist-packages (from matplotlib->highway-env==1.8.2) (1.4.5)\n",
            "Requirement already satisfied: packaging>=20.0 in /usr/local/lib/python3.10/dist-packages (from matplotlib->highway-env==1.8.2) (23.2)\n",
            "Requirement already satisfied: pillow>=6.2.0 in /usr/local/lib/python3.10/dist-packages (from matplotlib->highway-env==1.8.2) (9.4.0)\n",
            "Requirement already satisfied: pyparsing>=2.3.1 in /usr/local/lib/python3.10/dist-packages (from matplotlib->highway-env==1.8.2) (3.1.1)\n",
            "Requirement already satisfied: python-dateutil>=2.7 in /usr/local/lib/python3.10/dist-packages (from matplotlib->highway-env==1.8.2) (2.8.2)\n",
            "Requirement already satisfied: pytz>=2020.1 in /usr/local/lib/python3.10/dist-packages (from pandas->highway-env==1.8.2) (2023.3.post1)\n",
            "Requirement already satisfied: six>=1.5 in /usr/local/lib/python3.10/dist-packages (from python-dateutil>=2.7->matplotlib->highway-env==1.8.2) (1.16.0)\n",
            "Collecting git+https://github.com/bogrundtman/highway-env\n",
            "  Cloning https://github.com/bogrundtman/highway-env to /tmp/pip-req-build-i559bv4_\n",
            "  Running command git clone --filter=blob:none --quiet https://github.com/bogrundtman/highway-env /tmp/pip-req-build-i559bv4_\n",
            "  Resolved https://github.com/bogrundtman/highway-env to commit 4cae2587999ac342a7b5c34507af8d20397a163f\n",
            "  Installing build dependencies ... \u001b[?25l\u001b[?25hdone\n",
            "  Getting requirements to build wheel ... \u001b[?25l\u001b[?25hdone\n",
            "  Installing backend dependencies ... \u001b[?25l\u001b[?25hdone\n",
            "  Preparing metadata (pyproject.toml) ... \u001b[?25l\u001b[?25hdone\n",
            "Requirement already satisfied: farama-notifications in /root/.local/lib/python3.10/site-packages (from highway-env==1.8.2) (0.0.4)\n",
            "Requirement already satisfied: gymnasium>=0.27 in /root/.local/lib/python3.10/site-packages (from highway-env==1.8.2) (0.29.1)\n",
            "Requirement already satisfied: numpy in /usr/local/lib/python3.10/dist-packages (from highway-env==1.8.2) (1.23.5)\n",
            "Requirement already satisfied: pygame>=2.0.2 in /usr/local/lib/python3.10/dist-packages (from highway-env==1.8.2) (2.5.2)\n",
            "Requirement already satisfied: matplotlib in /usr/local/lib/python3.10/dist-packages (from highway-env==1.8.2) (3.7.1)\n",
            "Requirement already satisfied: pandas in /usr/local/lib/python3.10/dist-packages (from highway-env==1.8.2) (1.5.3)\n",
            "Requirement already satisfied: scipy in /usr/local/lib/python3.10/dist-packages (from highway-env==1.8.2) (1.11.4)\n",
            "Requirement already satisfied: cloudpickle>=1.2.0 in /usr/local/lib/python3.10/dist-packages (from gymnasium>=0.27->highway-env==1.8.2) (2.2.1)\n",
            "Requirement already satisfied: typing-extensions>=4.3.0 in /usr/local/lib/python3.10/dist-packages (from gymnasium>=0.27->highway-env==1.8.2) (4.5.0)\n",
            "Requirement already satisfied: contourpy>=1.0.1 in /usr/local/lib/python3.10/dist-packages (from matplotlib->highway-env==1.8.2) (1.2.0)\n",
            "Requirement already satisfied: cycler>=0.10 in /usr/local/lib/python3.10/dist-packages (from matplotlib->highway-env==1.8.2) (0.12.1)\n",
            "Requirement already satisfied: fonttools>=4.22.0 in /usr/local/lib/python3.10/dist-packages (from matplotlib->highway-env==1.8.2) (4.47.0)\n",
            "Requirement already satisfied: kiwisolver>=1.0.1 in /usr/local/lib/python3.10/dist-packages (from matplotlib->highway-env==1.8.2) (1.4.5)\n",
            "Requirement already satisfied: packaging>=20.0 in /usr/local/lib/python3.10/dist-packages (from matplotlib->highway-env==1.8.2) (23.2)\n",
            "Requirement already satisfied: pillow>=6.2.0 in /usr/local/lib/python3.10/dist-packages (from matplotlib->highway-env==1.8.2) (9.4.0)\n",
            "Requirement already satisfied: pyparsing>=2.3.1 in /usr/local/lib/python3.10/dist-packages (from matplotlib->highway-env==1.8.2) (3.1.1)\n",
            "Requirement already satisfied: python-dateutil>=2.7 in /usr/local/lib/python3.10/dist-packages (from matplotlib->highway-env==1.8.2) (2.8.2)\n",
            "Requirement already satisfied: pytz>=2020.1 in /usr/local/lib/python3.10/dist-packages (from pandas->highway-env==1.8.2) (2023.3.post1)\n",
            "Requirement already satisfied: six>=1.5 in /usr/local/lib/python3.10/dist-packages (from python-dateutil>=2.7->matplotlib->highway-env==1.8.2) (1.16.0)\n"
          ]
        },
        {
          "output_type": "error",
          "ename": "ModuleNotFoundError",
          "evalue": "No module named 'highway_env'",
          "traceback": [
            "\u001b[0;31m---------------------------------------------------------------------------\u001b[0m",
            "\u001b[0;31mModuleNotFoundError\u001b[0m                       Traceback (most recent call last)",
            "\u001b[0;32m<ipython-input-2-0f42da6347d9>\u001b[0m in \u001b[0;36m<cell line: 10>\u001b[0;34m()\u001b[0m\n\u001b[1;32m      8\u001b[0m \u001b[0mget_ipython\u001b[0m\u001b[0;34m(\u001b[0m\u001b[0;34m)\u001b[0m\u001b[0;34m.\u001b[0m\u001b[0msystem\u001b[0m\u001b[0;34m(\u001b[0m\u001b[0;34m'pip install git+https://github.com/bogrundtman/highway-env'\u001b[0m\u001b[0;34m)\u001b[0m\u001b[0;34m\u001b[0m\u001b[0;34m\u001b[0m\u001b[0m\n\u001b[1;32m      9\u001b[0m \u001b[0;32mimport\u001b[0m \u001b[0mgym\u001b[0m\u001b[0;34m\u001b[0m\u001b[0;34m\u001b[0m\u001b[0m\n\u001b[0;32m---> 10\u001b[0;31m \u001b[0;32mimport\u001b[0m \u001b[0mhighway_env\u001b[0m\u001b[0;34m\u001b[0m\u001b[0;34m\u001b[0m\u001b[0m\n\u001b[0m\u001b[1;32m     11\u001b[0m \u001b[0;34m\u001b[0m\u001b[0m\n\u001b[1;32m     12\u001b[0m \u001b[0;31m# Agent\u001b[0m\u001b[0;34m\u001b[0m\u001b[0;34m\u001b[0m\u001b[0m\n",
            "\u001b[0;31mModuleNotFoundError\u001b[0m: No module named 'highway_env'",
            "",
            "\u001b[0;31m---------------------------------------------------------------------------\u001b[0;32m\nNOTE: If your import is failing due to a missing package, you can\nmanually install dependencies using either !pip or !apt.\n\nTo view examples of installing some common dependencies, click the\n\"Open Examples\" button below.\n\u001b[0;31m---------------------------------------------------------------------------\u001b[0m\n"
          ],
          "errorDetails": {
            "actions": [
              {
                "action": "open_url",
                "actionText": "Open Examples",
                "url": "/notebooks/snippets/importing_libraries.ipynb"
              }
            ]
          }
        }
      ]
    },
    {
      "cell_type": "markdown",
      "metadata": {
        "id": "vvOEW00pdHrG"
      },
      "source": [
        "## Training\n",
        "\n",
        "Prepare environment, agent, and evaluation process.\n"
      ]
    },
    {
      "cell_type": "code",
      "metadata": {
        "id": "QowKW3ix45ZW"
      },
      "source": [
        "from rl_agents.trainer.evaluation import Evaluation\n",
        "from rl_agents.agents.common.factory import load_agent, load_environment\n",
        "\n",
        "# Get the environment and agent configurations from the rl-agents repository\n",
        "!git clone https://github.com/eleurent/rl-agents.git\n",
        "%cd /content/rl-agents/scripts/\n",
        "env_config = 'configs/HighwayEnv/env.json'\n",
        "agent_config = 'configs/HighwayEnv/agents/DQNAgent/dqn.json'\n",
        "\n",
        "env = load_environment(env_config)\n",
        "import pprint\n",
        "from matplotlib import pyplot as plt\n",
        "env.config[\"lane_change_reward\"] = 0\n",
        "env.config[\"vehicles_count\"] = 0\n",
        "#env.config['reward_speed_range'] = [0, 100]\n",
        "env.config[\"lanes_count\"] = 2\n",
        "env.config[\"initial_lane_id\"] = 0\n",
        "pprint.pprint(env.config)\n",
        "pprint.pprint(agent_config)\n",
        "\n",
        "env.reset()\n",
        "plt.imshow(env.render(mode=\"rgb_array\"))\n",
        "plt.show()\n",
        "\n",
        "agent = load_agent(agent_config, env)\n",
        "evaluation = Evaluation(env, agent, num_episodes=10, display_env=False)\n",
        "print(f\"Ready to train {agent} on {env}\")"
      ],
      "execution_count": null,
      "outputs": []
    },
    {
      "cell_type": "markdown",
      "metadata": {
        "id": "BtK9dtfb0JMF"
      },
      "source": [
        "Start training. Run tensorboard locally to visualize training."
      ]
    },
    {
      "cell_type": "code",
      "metadata": {
        "id": "sFVq1gFz42Eg"
      },
      "source": [
        "%tensorboard --logdir \"{evaluation.directory}\"\n",
        "evaluation.train()"
      ],
      "execution_count": null,
      "outputs": []
    },
    {
      "cell_type": "markdown",
      "metadata": {
        "id": "-lNvWg42RWiw"
      },
      "source": [
        "Progress can be visualised in the tensorboard cell above, which should update every 30s (or manually). You may need to click the *Fit domain to data* buttons below each graph."
      ]
    },
    {
      "cell_type": "markdown",
      "metadata": {
        "id": "VKfvu5uhzCIU"
      },
      "source": [
        "## Testing\n",
        "\n",
        "Run the learned policy for a few episodes."
      ]
    },
    {
      "cell_type": "code",
      "metadata": {
        "id": "gY0rpVYUtRpN"
      },
      "source": [
        "#env = load_environment(env_config)\n",
        "env.configure({\"offscreen_rendering\": True})\n",
        "env.render(mode=\"rgb_array\")\n",
        "##env = record_videos(env)\n",
        "agent = load_agent(agent_config, env)\n",
        "evaluation = Evaluation(env, agent, num_episodes=3, recover=True)\n",
        "evaluation.test()\n",
        "show_videos(evaluation.run_directory)"
      ],
      "execution_count": null,
      "outputs": []
    }
  ]
}